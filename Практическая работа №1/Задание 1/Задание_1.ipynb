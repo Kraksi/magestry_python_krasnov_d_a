{
 "cells": [
  {
   "cell_type": "code",
   "execution_count": 2,
   "id": "0c826524-aa03-4078-8f13-82af4d80ac7a",
   "metadata": {},
   "outputs": [],
   "source": [
    "import logging\n",
    "logging.basicConfig(filename='sales.log', level=logging.INFO,\n",
    "                    format='%(asctime)s - %(levelname)s - %(message)s', datefmt='%Y-%m-%d %H:%M:%S')"
   ]
  },
  {
   "cell_type": "code",
   "execution_count": 32,
   "id": "99363807-aec8-47f8-b701-e7862793e62b",
   "metadata": {},
   "outputs": [],
   "source": [
    "def calculate_product(data):\n",
    "    product_dict = {}\n",
    "    total_income = 0\n",
    "    for item in data:\n",
    "        try:\n",
    "            product, quantity, price = item.strip().split(',')\n",
    "            quantity = int(quantity)\n",
    "            price = float(price)\n",
    "            product_income = quantity * price\n",
    "            product_dict[product] = {\n",
    "                'quantity': quantity,\n",
    "                'price': price,\n",
    "                'product_income': product_income\n",
    "            }\n",
    "            total_income += product_income\n",
    "        except ValueError as e:\n",
    "            logging.error(f\"Ошибка обработки строки '{item.strip()}': {e}\")\n",
    "\n",
    "    return product_dict, total_income"
   ]
  },
  {
   "cell_type": "code",
   "execution_count": 34,
   "id": "8a65b940-4023-4f94-8023-3669eafaea47",
   "metadata": {},
   "outputs": [],
   "source": [
    "def read_file(file_name):\n",
    "    data = []\n",
    "    try:\n",
    "        with open(file_name, 'r', encoding='utf-8') as f:\n",
    "            data = f.readlines()\n",
    "        logging.info(f\"Данные успешно считаны из файла {file_name}\")\n",
    "    except FileNotFoundError:\n",
    "        logging.error(f\"Файл {file_name} не найден.\")\n",
    "        print(\"Ошибка: файл с данными не найден.\")\n",
    "    return data"
   ]
  },
  {
   "cell_type": "code",
   "execution_count": 36,
   "id": "9c8e1129-e8c0-4dcb-b726-3b4ad413114e",
   "metadata": {},
   "outputs": [],
   "source": [
    "def main():\n",
    "    data = read_file('data.txt')\n",
    "    product_dict, total_income = calculate_product(data)\n",
    "    print(f\"{'Товар':<20} {'Количество':<10} {'Цена за единицу':<15} {'Общая выручка':<15}\")\n",
    "    print(\"-\" * 60)\n",
    "    for product, info in product_dict.items():\n",
    "        print(f\"{product:<20} {info['quantity']:<10} {info['price']:<15.2f} {info['product_income']:<15.2f}\")\n",
    "    print(\"\\nОбщий доход: {:.2f} руб.\".format(total_income))\n",
    "    logging.info(f\"Общий доход: {total_income:.2f} руб.\")\n",
    "    high_sales = 200000\n",
    "    if total_income > high_sales:\n",
    "        print(\"Поздравляем! Высокий уровень продаж!\")\n",
    "        logging.info(\"Высокий уровень продаж!\")"
   ]
  },
  {
   "cell_type": "code",
   "execution_count": 40,
   "id": "95163fc5-59f9-4430-b625-e209953716f2",
   "metadata": {},
   "outputs": [
    {
     "name": "stdout",
     "output_type": "stream",
     "text": [
      "Товар                Количество Цена за единицу Общая выручка  \n",
      "------------------------------------------------------------\n",
      "Телевизор            5          29999.99        149999.95      \n",
      "Холодильник          2          49999.50        99999.00       \n",
      "Смартфон             10         19999.00        199990.00      \n",
      "Ноутбук              3          69999.99        209999.97      \n",
      "Пылесос              7          8999.90         62999.30       \n",
      "Стиральная машина    4          35999.95        143999.80      \n",
      "Микроволновка        8          7999.99         63999.92       \n",
      "Кофеварка            15         4999.50         74992.50       \n",
      "\n",
      "Общий доход: 1005980.44 руб.\n",
      "Поздравляем! Высокий уровень продаж!\n"
     ]
    }
   ],
   "source": [
    "main()"
   ]
  },
  {
   "cell_type": "code",
   "execution_count": null,
   "id": "43416ce5-0e70-4f2c-8bb9-f959013d681c",
   "metadata": {},
   "outputs": [],
   "source": []
  }
 ],
 "metadata": {
  "kernelspec": {
   "display_name": "Python 3 (ipykernel)",
   "language": "python",
   "name": "python3"
  },
  "language_info": {
   "codemirror_mode": {
    "name": "ipython",
    "version": 3
   },
   "file_extension": ".py",
   "mimetype": "text/x-python",
   "name": "python",
   "nbconvert_exporter": "python",
   "pygments_lexer": "ipython3",
   "version": "3.12.4"
  }
 },
 "nbformat": 4,
 "nbformat_minor": 5
}
