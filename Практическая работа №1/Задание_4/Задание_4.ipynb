{
 "cells": [
  {
   "cell_type": "code",
   "execution_count": 3,
   "metadata": {},
   "outputs": [],
   "source": [
    "import logging\n",
    "logging.basicConfig(filename='employee_log.log', level=logging.INFO,\n",
    "                    format='%(asctime)s - %(levelname)s - %(message)s', datefmt='%Y-%m-%d %H:%M:%S')"
   ]
  },
  {
   "cell_type": "code",
   "execution_count": 5,
   "metadata": {},
   "outputs": [],
   "source": [
    "def load_employees(file_name):\n",
    "    employees = []\n",
    "    try:\n",
    "        with open(file_name, 'r', encoding='utf-8') as f:\n",
    "            for line in f:\n",
    "                parts = line.strip().split(',')\n",
    "                if len(parts) == 4:\n",
    "                    name, age, position, salary = parts\n",
    "                    employees.append({\n",
    "                        \"name\": name.strip(),\n",
    "                        \"age\": int(age.strip()),\n",
    "                        \"position\": position.strip(),\n",
    "                        \"salary\": int(salary.strip())\n",
    "                    })\n",
    "                else:\n",
    "                    logging.warning(f\"Некорректная строка данных: {line}\")\n",
    "        logging.info(\"Данные о сотрудниках успешно загружены.\")\n",
    "    except FileNotFoundError:\n",
    "        logging.error(f\"Файл {file_name} не найден.\")\n",
    "    except Exception as e:\n",
    "        logging.error(f\"Ошибка при чтении файла {file_name}: {e}\")\n",
    "    return employees"
   ]
  },
  {
   "cell_type": "code",
   "execution_count": 7,
   "metadata": {},
   "outputs": [],
   "source": [
    "def calculate_avg_salary(employees):\n",
    "    if not employees:\n",
    "        return 0\n",
    "    total_salary = sum(emp['salary'] for emp in employees)\n",
    "    avg_salary = total_salary / len(employees)\n",
    "    logging.info(f\"Рассчитана средняя зарплата: {avg_salary}\")\n",
    "    return avg_salary"
   ]
  },
  {
   "cell_type": "code",
   "execution_count": 9,
   "metadata": {},
   "outputs": [],
   "source": [
    "def filter_employees(employees, avg_salary):\n",
    "    high_earners = [emp for emp in employees if emp['salary'] > avg_salary]\n",
    "    logging.info(f\"Найдено {len(high_earners)} сотрудников с зарплатой выше средней.\")\n",
    "    return high_earners"
   ]
  },
  {
   "cell_type": "code",
   "execution_count": 25,
   "metadata": {},
   "outputs": [],
   "source": [
    "def save_high_earners(file_name, high_earners):\n",
    "    try:\n",
    "        with open(file_name, 'w', encoding='utf-8') as f:\n",
    "            for emp in high_earners:\n",
    "                f.write(f\"{emp['name']} - {emp['position']} - {emp['salary']}\\n\")\n",
    "        logging.info(f\"Данные о сотрудниках с высокой зарплатой успешно сохранены в {file_name}.\")\n",
    "    except Exception as e:\n",
    "        logging.error(f\"Ошибка при записи в файл {filename}: {e}\")"
   ]
  },
  {
   "cell_type": "code",
   "execution_count": 27,
   "metadata": {
    "id": "BpwH5XTKFUqN"
   },
   "outputs": [],
   "source": [
    "def main():\n",
    "    # Загрузка данных\n",
    "    employees = load_employees('employees.txt')\n",
    "    if employees:\n",
    "        avg_salary = calculate_avg_salary(employees)\n",
    "        high_earners = filter_employees(employees, avg_salary)\n",
    "        save_high_earners('high_earners.txt', high_earners)\n",
    "        print(\"Сотрудники с зарплатой выше средней:\")\n",
    "        for emp in high_earners:\n",
    "            print(f\"{emp['name']} - {emp['position']} - {emp['salary']}\")\n",
    "    else:\n",
    "        print(\"Данные о сотрудниках не загружены.\")"
   ]
  },
  {
   "cell_type": "code",
   "execution_count": 29,
   "metadata": {},
   "outputs": [
    {
     "name": "stdout",
     "output_type": "stream",
     "text": [
      "Сотрудники с зарплатой выше средней:\n",
      "Мария Петрова - Аналитик - 80000\n",
      "Алексей Смирнов - Менеджер - 90000\n",
      "Елена Кузнецова - Разработчик - 85000\n",
      "Игорь Лебедев - Директор - 120000\n"
     ]
    }
   ],
   "source": [
    "main()"
   ]
  },
  {
   "cell_type": "code",
   "execution_count": null,
   "metadata": {},
   "outputs": [],
   "source": []
  }
 ],
 "metadata": {
  "colab": {
   "provenance": []
  },
  "kernelspec": {
   "display_name": "Python 3 (ipykernel)",
   "language": "python",
   "name": "python3"
  },
  "language_info": {
   "codemirror_mode": {
    "name": "ipython",
    "version": 3
   },
   "file_extension": ".py",
   "mimetype": "text/x-python",
   "name": "python",
   "nbconvert_exporter": "python",
   "pygments_lexer": "ipython3",
   "version": "3.12.7"
  }
 },
 "nbformat": 4,
 "nbformat_minor": 4
}
