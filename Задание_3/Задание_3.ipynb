{
 "cells": [
  {
   "cell_type": "code",
   "execution_count": 1,
   "metadata": {},
   "outputs": [],
   "source": [
    "import logging\n",
    "logging.basicConfig(filename='todo_log.log', level=logging.INFO,\n",
    "                    format='%(asctime)s - %(levelname)s - %(message)s', datefmt='%Y-%m-%d %H:%M:%S')"
   ]
  },
  {
   "cell_type": "code",
   "execution_count": 17,
   "metadata": {},
   "outputs": [],
   "source": [
    "def load_tasks():\n",
    "    tasks = []\n",
    "    try:\n",
    "        with open('tasks.txt', 'r', encoding='utf-8') as f:\n",
    "            tasks = [line.strip() for line in f]\n",
    "        logging.info(\"Задачи успешно загружены из файла.\")\n",
    "    except FileNotFoundError:\n",
    "        logging.warning(\"Файл tasks.txt не найден. Создан новый пустой список задач.\")\n",
    "    return tasks"
   ]
  },
  {
   "cell_type": "code",
   "execution_count": 19,
   "metadata": {},
   "outputs": [],
   "source": [
    "def save_tasks(tasks):\n",
    "    try:\n",
    "        with open('tasks.txt', 'w', encoding='utf-8') as file:\n",
    "            for task in tasks:\n",
    "                file.write(task + '\\n')\n",
    "        logging.info(\"Задачи успешно сохранены в файл.\")\n",
    "    except Exception as e:\n",
    "        logging.error(f\"Ошибка при сохранении задач: {e}\")"
   ]
  },
  {
   "cell_type": "code",
   "execution_count": 21,
   "metadata": {},
   "outputs": [],
   "source": [
    "def add_task(tasks):\n",
    "    task = input(\"Введите новую задачу: \").strip()\n",
    "    if task:\n",
    "        tasks.append(task)\n",
    "        save_tasks(tasks)\n",
    "        logging.info(f\"Добавлена задача: '{task}'\")\n",
    "        print(\"Задача добавлена.\")\n",
    "    else:\n",
    "        print(\"Задача не может быть пустой.\")"
   ]
  },
  {
   "cell_type": "code",
   "execution_count": 23,
   "metadata": {},
   "outputs": [],
   "source": [
    "def delete_task(tasks):\n",
    "    if not tasks:\n",
    "        print(\"Список задач пуст.\")\n",
    "        return\n",
    "    try:\n",
    "        display_tasks(tasks)\n",
    "        task_num = int(input(\"Введите номер задачи для удаления: \")) - 1\n",
    "        if 0 <= task_num < len(tasks):\n",
    "            removed_task = tasks.pop(task_num)\n",
    "            save_tasks(tasks)\n",
    "            logging.info(f\"Удалена задача: '{removed_task}'\")\n",
    "            print(\"Задача удалена.\")\n",
    "        else:\n",
    "            print(\"Некорректный номер задачи.\")\n",
    "    except ValueError:\n",
    "        print(\"Пожалуйста, введите корректный номер задачи.\")\n",
    "        logging.error(\"Ошибка ввода: некорректный номер задачи.\")"
   ]
  },
  {
   "cell_type": "code",
   "execution_count": 25,
   "metadata": {},
   "outputs": [],
   "source": [
    "def display_tasks(tasks):\n",
    "    if tasks:\n",
    "        print(\"\\nСписок задач:\")\n",
    "        for i, task in enumerate(tasks, 1):\n",
    "            print(f\"{i}. {task}\")\n",
    "    else:\n",
    "        print(\"Список задач пуст.\")"
   ]
  },
  {
   "cell_type": "code",
   "execution_count": 27,
   "metadata": {
    "id": "D-bRnBOOgZYt"
   },
   "outputs": [],
   "source": [
    "def main():\n",
    "    tasks = load_tasks()\n",
    "\n",
    "    while True:\n",
    "        print(\"\\nМеню:\")\n",
    "        print(\"1. Показать список задач\")\n",
    "        print(\"2. Добавить задачу\")\n",
    "        print(\"3. Удалить задачу\")\n",
    "        print(\"4. Выход\")\n",
    "\n",
    "        choice = input(\"Выберите действие (1-4): \").strip()\n",
    "\n",
    "        if choice == '1':\n",
    "            display_tasks(tasks)\n",
    "        elif choice == '2':\n",
    "            add_task(tasks)\n",
    "        elif choice == '3':\n",
    "            delete_task(tasks)\n",
    "        elif choice == '4':\n",
    "            logging.info(\"Программа завершена пользователем.\")\n",
    "            print(\"До свидания!\")\n",
    "            break\n",
    "        else:\n",
    "            print(\"Некорректный выбор. Пожалуйста, выберите от 1 до 4.\")\n",
    "            logging.warning(f\"Некорректный выбор пользователя: {choice}\")"
   ]
  },
  {
   "cell_type": "code",
   "execution_count": 31,
   "metadata": {},
   "outputs": [
    {
     "name": "stdout",
     "output_type": "stream",
     "text": [
      "\n",
      "Меню:\n",
      "1. Показать список задач\n",
      "2. Добавить задачу\n",
      "3. Удалить задачу\n",
      "4. Выход\n"
     ]
    },
    {
     "name": "stdin",
     "output_type": "stream",
     "text": [
      "Выберите действие (1-4):  1\n"
     ]
    },
    {
     "name": "stdout",
     "output_type": "stream",
     "text": [
      "Список задач пуст.\n",
      "\n",
      "Меню:\n",
      "1. Показать список задач\n",
      "2. Добавить задачу\n",
      "3. Удалить задачу\n",
      "4. Выход\n"
     ]
    },
    {
     "name": "stdin",
     "output_type": "stream",
     "text": [
      "Выберите действие (1-4):  2\n",
      "Введите новую задачу:  убрать квартиру\n"
     ]
    },
    {
     "name": "stdout",
     "output_type": "stream",
     "text": [
      "Задача добавлена.\n",
      "\n",
      "Меню:\n",
      "1. Показать список задач\n",
      "2. Добавить задачу\n",
      "3. Удалить задачу\n",
      "4. Выход\n"
     ]
    },
    {
     "name": "stdin",
     "output_type": "stream",
     "text": [
      "Выберите действие (1-4):  1\n"
     ]
    },
    {
     "name": "stdout",
     "output_type": "stream",
     "text": [
      "\n",
      "Список задач:\n",
      "1. убрать квартиру\n",
      "\n",
      "Меню:\n",
      "1. Показать список задач\n",
      "2. Добавить задачу\n",
      "3. Удалить задачу\n",
      "4. Выход\n"
     ]
    },
    {
     "name": "stdin",
     "output_type": "stream",
     "text": [
      "Выберите действие (1-4):  3\n"
     ]
    },
    {
     "name": "stdout",
     "output_type": "stream",
     "text": [
      "\n",
      "Список задач:\n",
      "1. убрать квартиру\n"
     ]
    },
    {
     "name": "stdin",
     "output_type": "stream",
     "text": [
      "Введите номер задачи для удаления:  1\n"
     ]
    },
    {
     "name": "stdout",
     "output_type": "stream",
     "text": [
      "Задача удалена.\n",
      "\n",
      "Меню:\n",
      "1. Показать список задач\n",
      "2. Добавить задачу\n",
      "3. Удалить задачу\n",
      "4. Выход\n"
     ]
    },
    {
     "name": "stdin",
     "output_type": "stream",
     "text": [
      "Выберите действие (1-4):  4\n"
     ]
    },
    {
     "name": "stdout",
     "output_type": "stream",
     "text": [
      "До свидания!\n"
     ]
    }
   ],
   "source": [
    "main()"
   ]
  },
  {
   "cell_type": "code",
   "execution_count": null,
   "metadata": {},
   "outputs": [],
   "source": []
  }
 ],
 "metadata": {
  "colab": {
   "provenance": []
  },
  "kernelspec": {
   "display_name": "Python 3 (ipykernel)",
   "language": "python",
   "name": "python3"
  },
  "language_info": {
   "codemirror_mode": {
    "name": "ipython",
    "version": 3
   },
   "file_extension": ".py",
   "mimetype": "text/x-python",
   "name": "python",
   "nbconvert_exporter": "python",
   "pygments_lexer": "ipython3",
   "version": "3.12.7"
  }
 },
 "nbformat": 4,
 "nbformat_minor": 4
}
