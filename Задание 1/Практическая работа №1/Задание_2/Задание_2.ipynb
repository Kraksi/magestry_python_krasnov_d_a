{
 "cells": [
  {
   "cell_type": "code",
   "execution_count": 1,
   "metadata": {
    "id": "NR8_vJkEOTpB"
   },
   "outputs": [],
   "source": [
    "import logging\n",
    "logging.basicConfig(filename='student_log.log', level=logging.INFO,\n",
    "                    format='%(asctime)s - %(levelname)s - %(message)s', datefmt='%Y-%m-%d %H:%M:%S')"
   ]
  },
  {
   "cell_type": "code",
   "execution_count": 3,
   "metadata": {},
   "outputs": [],
   "source": [
    "def calculate_average_grades(data):\n",
    "    grades_dict = {}\n",
    "    for line in data:\n",
    "        try:\n",
    "            parts = line.strip().split(',')\n",
    "            name = parts[0]\n",
    "            grades = list(map(int, parts[1:]))\n",
    "            avg = sum(grades) / len(grades)\n",
    "            grades_dict[name] = avg\n",
    "        except ValueError as e:\n",
    "            logging.error(f\"Ошибка обработки строки '{line.strip()}': {e}\")\n",
    "\n",
    "    return grades_dict"
   ]
  },
  {
   "cell_type": "code",
   "execution_count": 4,
   "metadata": {},
   "outputs": [],
   "source": [
    "def write_top_students(grades_dict, grade=4.5):\n",
    "    top_students = {name: avg for name, avg in grades_dict.items() if avg > grade}\n",
    "    with open('top_students.txt', 'w', encoding='utf-8') as file:\n",
    "        for name, avg in top_students.items():\n",
    "            file.write(f\"{name}: {avg:.2f}\\n\")\n",
    "\n",
    "    logging.info(f\"Записано {len(top_students)} студентов с высоким средним баллом в файл 'top_students.txt'.\")"
   ]
  },
  {
   "cell_type": "code",
   "execution_count": 5,
   "metadata": {},
   "outputs": [],
   "source": [
    "def open_file(file_name):\n",
    "    data = []\n",
    "    try:\n",
    "        with open(file_name, 'r', encoding='utf-8') as f:\n",
    "            data = f.readlines()\n",
    "        logging.info(f\"Успешно считано {len(data)} записей из файла {file_name}\")\n",
    "    except FileNotFoundError:\n",
    "        logging.error(f\"Файл {file_name} не найден.\")\n",
    "        print(\"Ошибка: файл с данными не найден.\")\n",
    "    return data"
   ]
  },
  {
   "cell_type": "code",
   "execution_count": 14,
   "metadata": {
    "id": "7CamXm5ogN90"
   },
   "outputs": [],
   "source": [
    "def main():\n",
    "    data = open_file('students.txt')\n",
    "    grades_dict = calculate_average_grades(data)\n",
    "    write_top_students(grades_dict, grade=4.5)\n",
    "    print(f\"{'Студент':<20} {'Средний балл'}\")\n",
    "    print(\"-\" * 30)\n",
    "    for name, avg in grades_dict.items():\n",
    "        print(f\"{name:<20} {avg:.2f}\")\n",
    "    logging.info(\"Программа завершена успешно.\")\n"
   ]
  },
  {
   "cell_type": "code",
   "execution_count": 16,
   "metadata": {},
   "outputs": [
    {
     "name": "stdout",
     "output_type": "stream",
     "text": [
      "Студент              Средний балл\n",
      "------------------------------\n",
      "Алексей Смирнов      4.20\n",
      "Елена Кузнецова      4.60\n",
      "Дмитрий Попов        3.00\n",
      "Анна Соколова        5.00\n",
      "Игорь Лебедев        2.80\n",
      "Мария Козлова        4.60\n",
      "Сергей Новиков       4.60\n",
      "Наталья Морозова     3.40\n"
     ]
    }
   ],
   "source": [
    "main()"
   ]
  },
  {
   "cell_type": "code",
   "execution_count": null,
   "metadata": {},
   "outputs": [],
   "source": []
  }
 ],
 "metadata": {
  "colab": {
   "provenance": []
  },
  "kernelspec": {
   "display_name": "Python 3 (ipykernel)",
   "language": "python",
   "name": "python3"
  },
  "language_info": {
   "codemirror_mode": {
    "name": "ipython",
    "version": 3
   },
   "file_extension": ".py",
   "mimetype": "text/x-python",
   "name": "python",
   "nbconvert_exporter": "python",
   "pygments_lexer": "ipython3",
   "version": "3.12.7"
  }
 },
 "nbformat": 4,
 "nbformat_minor": 4
}
