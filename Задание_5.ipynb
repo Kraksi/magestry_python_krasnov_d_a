{
  "nbformat": 4,
  "nbformat_minor": 0,
  "metadata": {
    "colab": {
      "provenance": [],
      "authorship_tag": "ABX9TyOlanXPQD6vkCBXfgG8rPYF",
      "include_colab_link": true
    },
    "kernelspec": {
      "name": "python3",
      "display_name": "Python 3"
    },
    "language_info": {
      "name": "python"
    }
  },
  "cells": [
    {
      "cell_type": "markdown",
      "metadata": {
        "id": "view-in-github",
        "colab_type": "text"
      },
      "source": [
        "<a href=\"https://colab.research.google.com/github/Kraksi/magestry_python_krasnov_d_a/blob/main/%D0%97%D0%B0%D0%B4%D0%B0%D0%BD%D0%B8%D0%B5_5.ipynb\" target=\"_parent\"><img src=\"https://colab.research.google.com/assets/colab-badge.svg\" alt=\"Open In Colab\"/></a>"
      ]
    },
    {
      "cell_type": "code",
      "execution_count": null,
      "metadata": {
        "id": "AEl-0wSJ5T-m"
      },
      "outputs": [],
      "source": [
        "import logging\n",
        "\n",
        "# Настраиваем логирование\n",
        "logging.basicConfig(filename='synonym_search.log', level=logging.INFO,\n",
        "                    format='%(asctime)s - %(message)s', datefmt='%Y-%m-%d %H:%M:%S')\n",
        "\n",
        "def load_synonyms(file_path):\n",
        "    \"\"\"\n",
        "    Загружает синонимы из файла в словарь.\n",
        "    \"\"\"\n",
        "    synonyms_dict = {}\n",
        "    try:\n",
        "        with open(file_path, 'r', encoding='utf-8') as file:\n",
        "            for line in file:\n",
        "                # Разбиваем строку на слово и синонимы\n",
        "                word, synonyms = line.strip().split(' - ')\n",
        "                synonyms_list = [syn.strip() for syn in synonyms.split(',')]\n",
        "                synonyms_dict[word.lower()] = synonyms_list\n",
        "    except FileNotFoundError:\n",
        "        print(f\"Файл {file_path} не найден. Проверьте путь и название файла.\")\n",
        "        return None\n",
        "    return synonyms_dict\n",
        "\n",
        "def get_synonyms(word, synonyms_dict):\n",
        "    \"\"\"\n",
        "    Возвращает список синонимов для введенного слова.\n",
        "    \"\"\"\n",
        "    # Приводим слово к нижнему регистру для поиска в словаре\n",
        "    word_lower = word.lower()\n",
        "    if word_lower in synonyms_dict:\n",
        "        synonyms = synonyms_dict[word_lower]\n",
        "        return synonyms\n",
        "    else:\n",
        "        return None\n",
        "\n",
        "def main():\n",
        "    # Загружаем синонимы из файла\n",
        "    synonyms_dict = load_synonyms('synonyms.txt')\n",
        "    if synonyms_dict is None:\n",
        "        return  # Прекращаем работу, если файл не найден\n",
        "\n",
        "    # Основной цикл программы\n",
        "    print(\"Введите слово для поиска синонимов (или 'выход' для завершения):\")\n",
        "    while True:\n",
        "        user_input = input(\"Слово: \").strip()\n",
        "\n",
        "        # Проверка на команду выхода\n",
        "        if user_input.lower() == 'выход':\n",
        "            print(\"Программа завершена.\")\n",
        "            break\n",
        "\n",
        "        # Получаем список синонимов\n",
        "        synonyms = get_synonyms(user_input, synonyms_dict)\n",
        "\n",
        "        # Логируем запрос пользователя\n",
        "        logging.info(f\"Запрос: {user_input}\")\n",
        "\n",
        "        # Выводим результат\n",
        "        if synonyms:\n",
        "            print(f\"\\n\\\"{user_input.capitalize()}\\\"\\nСинонимы:\")\n",
        "            formatted_synonyms = ', '.join([f\"{i + 1}. {syn}\" for i, syn in enumerate(synonyms)])\n",
        "            print(formatted_synonyms)\n",
        "            # Логируем найденные синонимы\n",
        "            logging.info(f\"Синонимы: {formatted_synonyms}\")\n",
        "        else:\n",
        "            print(f\"Слово \\\"{user_input}\\\" не найдено в словаре.\")\n",
        "            # Логируем отсутствие синонимов\n",
        "            logging.info(\"Синонимы: не найдены\")"
      ]
    }
  ]
}