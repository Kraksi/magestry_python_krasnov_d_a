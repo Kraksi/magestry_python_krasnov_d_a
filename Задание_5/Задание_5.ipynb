{
 "cells": [
  {
   "cell_type": "code",
   "execution_count": 1,
   "metadata": {},
   "outputs": [],
   "source": [
    "import logging\n",
    "logging.basicConfig(filename='synonym.log', level=logging.INFO,\n",
    "                    format='%(asctime)s - %(message)s', datefmt='%Y-%m-%d %H:%M:%S')"
   ]
  },
  {
   "cell_type": "code",
   "execution_count": 3,
   "metadata": {},
   "outputs": [],
   "source": [
    "def load_synonyms(file_name):\n",
    "    synonyms_dict = {}\n",
    "    try:\n",
    "        with open(file_name, 'r', encoding='utf-8') as f:\n",
    "            for line in f:\n",
    "                word, synonyms = line.strip().split(' - ')\n",
    "                synonyms_list = [syn.strip() for syn in synonyms.split(',')]\n",
    "                synonyms_dict[word.lower()] = synonyms_list\n",
    "    except FileNotFoundError:\n",
    "        print(f\"Файл {file_name} не найден. Проверьте путь и название файла.\")\n",
    "        return None\n",
    "    return synonyms_dict"
   ]
  },
  {
   "cell_type": "code",
   "execution_count": 4,
   "metadata": {},
   "outputs": [],
   "source": [
    "def get_synonyms(word, synonyms_dict):\n",
    "    word_lower = word.lower()\n",
    "    if word_lower in synonyms_dict:\n",
    "        synonyms = synonyms_dict[word_lower]\n",
    "        return synonyms\n",
    "    else:\n",
    "        return None"
   ]
  },
  {
   "cell_type": "code",
   "execution_count": 7,
   "metadata": {
    "id": "AEl-0wSJ5T-m"
   },
   "outputs": [],
   "source": [
    "def main():\n",
    "    synonyms_dict = load_synonyms('synonyms.txt')\n",
    "    if synonyms_dict is None:\n",
    "        return\n",
    "    print(\"Введите слово для поиска синонимов (или 'выход' для завершения):\")\n",
    "    while True:\n",
    "        user_input = input(\"Слово: \").strip()\n",
    "        if user_input.lower() == 'выход':\n",
    "            print(\"Программа завершена.\")\n",
    "            break\n",
    "        synonyms = get_synonyms(user_input, synonyms_dict)\n",
    "        logging.info(f\"Запрос: {user_input}\")\n",
    "        if synonyms:\n",
    "            print(f\"\\n\\\"{user_input.capitalize()}\\\"\\nСинонимы:\")\n",
    "            formatted_synonyms = ', '.join([f\"{i + 1}. {syn}\" for i, syn in enumerate(synonyms)])\n",
    "            print(formatted_synonyms)\n",
    "            logging.info(f\"Синонимы: {formatted_synonyms}\")\n",
    "        else:\n",
    "            print(f\"Слово \\\"{user_input}\\\" не найдено в словаре.\")\n",
    "            logging.info(\"Синонимы: не найдены\")"
   ]
  },
  {
   "cell_type": "code",
   "execution_count": 10,
   "metadata": {},
   "outputs": [
    {
     "name": "stdout",
     "output_type": "stream",
     "text": [
      "Введите слово для поиска синонимов (или 'выход' для завершения):\n"
     ]
    },
    {
     "name": "stdin",
     "output_type": "stream",
     "text": [
      "Слово:  большой\n"
     ]
    },
    {
     "name": "stdout",
     "output_type": "stream",
     "text": [
      "\n",
      "\"Большой\"\n",
      "Синонимы:\n",
      "1. огромный, 2. крупный, 3. громадный, 4. масштабный, 5. величавый\n"
     ]
    },
    {
     "name": "stdin",
     "output_type": "stream",
     "text": [
      "Слово:  выход\n"
     ]
    },
    {
     "name": "stdout",
     "output_type": "stream",
     "text": [
      "Программа завершена.\n"
     ]
    }
   ],
   "source": [
    "main()"
   ]
  },
  {
   "cell_type": "code",
   "execution_count": null,
   "metadata": {},
   "outputs": [],
   "source": []
  }
 ],
 "metadata": {
  "colab": {
   "provenance": []
  },
  "kernelspec": {
   "display_name": "Python 3 (ipykernel)",
   "language": "python",
   "name": "python3"
  },
  "language_info": {
   "codemirror_mode": {
    "name": "ipython",
    "version": 3
   },
   "file_extension": ".py",
   "mimetype": "text/x-python",
   "name": "python",
   "nbconvert_exporter": "python",
   "pygments_lexer": "ipython3",
   "version": "3.12.7"
  }
 },
 "nbformat": 4,
 "nbformat_minor": 4
}
